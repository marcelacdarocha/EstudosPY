{
  "nbformat": 4,
  "nbformat_minor": 0,
  "metadata": {
    "colab": {
      "provenance": [],
      "authorship_tag": "ABX9TyO5tmxx4h5j7mFKOnfLdPWO",
      "include_colab_link": true
    },
    "kernelspec": {
      "name": "python3",
      "display_name": "Python 3"
    },
    "language_info": {
      "name": "python"
    }
  },
  "cells": [
    {
      "cell_type": "markdown",
      "metadata": {
        "id": "view-in-github",
        "colab_type": "text"
      },
      "source": [
        "<a href=\"https://colab.research.google.com/github/marcelacdarocha/EstudosPY/blob/main/EX03UNINTER.ipynb\" target=\"_parent\"><img src=\"https://colab.research.google.com/assets/colab-badge.svg\" alt=\"Open In Colab\"/></a>"
      ]
    },
    {
      "cell_type": "code",
      "execution_count": 32,
      "metadata": {
        "colab": {
          "base_uri": "https://localhost:8080/"
        },
        "id": "y5qkQTVgCoGS",
        "outputId": "68795cb7-f7de-4e92-b374-37eea2e93c58"
      },
      "outputs": [
        {
          "output_type": "stream",
          "name": "stdout",
          "text": [
            "--------------------------------------------   Bem-vindo ao programa de limpeza da Marcela Cristina ---------------------------------------------------\n",
            "**************************************************************************************************************************************************\n",
            "----------------------------------------------------- Menu 1 de 3 metragem de limpeza ------------------------------------------------------------\n",
            "Digite a metragem desejada (m²):  500\n",
            "----------------------------------------------------- Menu 2 de 3 tipo de limpeza -----------------------------------------------------------------\n",
            "Escolha o tipo desejado. \n",
            "B - Básica - Indicada para sujeiras semanais ou quinzenais \n",
            " C - Completa - Indicada para sujeiras antigas ou não rotineiras \n",
            ">>>>>C\n",
            "----------------------------------------------------- Menu 3 de 3 adicional de limpeza ------------------------------------------------------------\n",
            "Deseja mais algum adicional ao seu serviço? \n",
            "0 - Não desejo mais nada quero encerrar o meu pedido  \n",
            "1 - Passar 10 peças de roupas R$:10,00 \n",
            "2 - Limpar 1 forno R$:12,00\n",
            "3 - Limpar 1 geladeira R$:20,00 \n",
            ">>>>>3\n",
            "Deseja mais algum adicional ao seu serviço? \n",
            "0 - Não desejo mais nada quero encerrar o meu pedido  \n",
            "1 - Passar 10 peças de roupas R$:10,00 \n",
            "2 - Limpar 1 forno R$:12,00\n",
            "3 - Limpar 1 geladeira R$:20,00 \n",
            ">>>>>3\n",
            "Deseja mais algum adicional ao seu serviço? \n",
            "0 - Não desejo mais nada quero encerrar o meu pedido  \n",
            "1 - Passar 10 peças de roupas R$:10,00 \n",
            "2 - Limpar 1 forno R$:12,00\n",
            "3 - Limpar 1 geladeira R$:20,00 \n",
            ">>>>>0\n",
            "O total do serviço ficou: R$481.00 (metrage: R$370.00), (Tipo: R$1.30), (adicionais: R$0.00)\n"
          ]
        }
      ],
      "source": [
        "#início da função metragemLimpeza()\n",
        "def metragemLimpeza():\n",
        "  print('**************************************************************************************************************************************************')\n",
        "  print('----------------------------------------------------- Menu 1 de 3 metragem de limpeza ------------------------------------------------------------')\n",
        "  while True:\n",
        "    try:\n",
        "      metragemL = int(input('Digite a metragem desejada (m²):  '))\n",
        "      if 30 <= metragemL < 300:\n",
        "        return 60 + 0.3 * metragemL\n",
        "      elif 300 <= metragemL < 700:\n",
        "        return 120 + 0.5 * metragemL   \n",
        "      else:\n",
        "        print('Você digitou um valor inválido.')\n",
        "        continue\n",
        "    except ValueError: \n",
        "      print('Valor digitado inválido!!')    \n",
        "#fim da função metragemLimpeza()\n",
        "\n",
        "#início da função tipoLimpeza()\n",
        "def tipoLimpeza():\n",
        "  print('----------------------------------------------------- Menu 2 de 3 tipo de limpeza -----------------------------------------------------------------')\n",
        "  while True:\n",
        "    tipoL = input('Escolha o tipo desejado. \\n' +\n",
        "                  'B - Básica - Indicada para sujeiras semanais ou quinzenais \\n ' +\n",
        "                  'C - Completa - Indicada para sujeiras antigas ou não rotineiras \\n'\n",
        "                  '>>>>>')\n",
        "    if tipoL == 'B':\n",
        "      return 1.00 \n",
        "    elif tipoL == 'C':\n",
        "      return 1.30 \n",
        "    else:\n",
        "      print('valor digitado inválido! apenas B ou C.')\n",
        "      continue\n",
        "#fim da função tipoLimpeza()\n",
        "\n",
        "#início da função adicionalLimpeza()\n",
        "def adicionalLimpeza():\n",
        "  print('----------------------------------------------------- Menu 3 de 3 adicional de limpeza ------------------------------------------------------------')\n",
        "  acumulador = 0\n",
        "  while True:\n",
        "    adicionaisL = input('Deseja mais algum adicional ao seu serviço? \\n' + \n",
        "                        '0 - Não desejo mais nada quero encerrar o meu pedido  \\n' +\n",
        "                        '1 - Passar 10 peças de roupas R$:10,00 \\n' +\n",
        "                        '2 - Limpar 1 forno R$:12,00\\n' +\n",
        "                        '3 - Limpar 1 geladeira R$:20,00 \\n'\n",
        "                        '>>>>>')\n",
        "    if adicionaisL == '0':\n",
        "      return 0\n",
        "    elif adicionaisL == '1':\n",
        "      acumulador = acumulador + 10\n",
        "      continue\n",
        "    elif adicionaisL == '2':\n",
        "      acumulador = acumulador + 12\n",
        "      continue\n",
        "    elif adicionaisL == '3':\n",
        "      acumulador = acumulador + 20\n",
        "      continue\n",
        "    else:\n",
        "      print('O valor escolhildo não é válido')\n",
        "\n",
        "  \n",
        "#fim da função adicionalLimpeza()\n",
        "\n",
        "\n",
        "#início do Main\n",
        "print('--------------------------------------------   Bem-vindo ao programa de limpeza da Marcela Cristina ---------------------------------------------------')\n",
        "metragem = metragemLimpeza()\n",
        "tipo = tipoLimpeza()\n",
        "adicional = adicionalLimpeza()\n",
        "total = (metragem * tipo) + adicional\n",
        "print('O total do serviço ficou: R${:.2f} (metrage: R${:.2f}), (Tipo: R${:.2f}), (adicionais: R${:.2f})'.format(total, metragem, tipo, adicional))"
      ]
    }
  ]
}