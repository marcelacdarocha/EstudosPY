{
  "nbformat": 4,
  "nbformat_minor": 0,
  "metadata": {
    "colab": {
      "provenance": [],
      "authorship_tag": "ABX9TyPZthblstyFFOGVZvFSZFBB",
      "include_colab_link": true
    },
    "kernelspec": {
      "name": "python3",
      "display_name": "Python 3"
    },
    "language_info": {
      "name": "python"
    }
  },
  "cells": [
    {
      "cell_type": "markdown",
      "metadata": {
        "id": "view-in-github",
        "colab_type": "text"
      },
      "source": [
        "<a href=\"https://colab.research.google.com/github/marcelacdarocha/EstudosPY/blob/main/Ex02Uninter.ipynb\" target=\"_parent\"><img src=\"https://colab.research.google.com/assets/colab-badge.svg\" alt=\"Open In Colab\"/></a>"
      ]
    },
    {
      "cell_type": "code",
      "execution_count": null,
      "metadata": {
        "id": "ZbcLGw4NSH4k"
      },
      "outputs": [],
      "source": [
        "print('Bem-vindo a sorveteria da Marcela Cristina da Rocha')\n",
        "print('-------------------------------   CARDÁPIO   -----------------------------------------------')\n",
        "print('|CÓDIGO | DESCRIÇÃO           | TAMANHO P (500ml) | TAMANHO M (1000ml)  | TAMANHO G (2000ml)')\n",
        "print('|   TR  |SABORES TRADICIONAIS |     R$: 6,00      |  R$: 10,00          |     R$:  18,00   |')\n",
        "print('|   ES  |SABORES ESPECIAIS    |     R$: 7,00      |  R$: 12,00          |     R$:  21,00   |')\n",
        "print('|   PR  |SABORES PREMIUM      |     R$: 8,00      |  R$: 14,00          |     R$:  24,00   |')\n",
        "print('--------------------------------------------------------------------------------------------')\n",
        "\n",
        "acumulador = 0\n",
        "while True:\n",
        "  tamanho = input('Escolha o tamanho desejado (P/M/G): ')\n",
        "  tamanho = tamanho.upper()\n",
        "  if tamanho != 'M' and tamanho != 'G' and tamanho != 'P':\n",
        "    print('Opção inválida, tamanho inexistente!')\n",
        "    continue # se o usuário digitar algo inválido volta para o começo do while\n",
        "\n",
        "  codigo = input('Escolha o codigo desejado (TR/ES/PR): ')\n",
        "  codigo = codigo.upper()\n",
        "  if codigo != 'TR' and codigo != 'ES' and codigo != 'PR':\n",
        "    print('Opção inválida, código inexistente!')\n",
        "    continue # se o usuário digitar algo inválido volta para o começo do while\n",
        "\n",
        "  if codigo == 'TR' and tamanho == 'P':\n",
        "    print('Você escolheu sabor tradicional tamanho P')\n",
        "    acumulador = acumulador + 6\n",
        "\n",
        "  elif codigo == 'TR' and tamanho == 'M':\n",
        "    print('Você escolheu sabor tradicional tamanho M')\n",
        "    acumulador = acumulador + 10\n",
        "\n",
        "  elif codigo == 'TR' and tamanho == 'G':\n",
        "    print('Você escolheu sabor tradicional tamanho G')\n",
        "    acumulador = acumulador + 18\n",
        "\n",
        "  elif codigo == 'ES' and tamanho == 'P':\n",
        "    print('Você escolheu sabor especial tamanho P')\n",
        "    acumulador = acumulador + 7\n",
        "\n",
        "  elif codigo == 'ES' and tamanho == 'M':\n",
        "    print('Você escolheu sabor especial tamanho M')\n",
        "    acumulador = acumulador + 12\n",
        "\n",
        "  elif codigo == 'ES' and tamanho == 'G':\n",
        "    print('Você escolheu sabor especial tamanho G')\n",
        "    acumulador = acumulador + 21\n",
        "\n",
        "  elif codigo == 'PR' and tamanho == 'P':\n",
        "    print('Você escolheu sabor premium tamanho p')\n",
        "    acumulador = acumulador + 8\n",
        "\n",
        "  elif codigo == 'PR' and tamanho == 'M':\n",
        "    print('Você escolheu sabor premium tamanho M')\n",
        "    acumulador = acumulador + 14\n",
        "\n",
        "  elif codigo == 'PR' and tamanho == 'G':\n",
        "    print('Você escolheu sabor premium tamanho G')\n",
        "    acumulador = acumulador + 24 \n",
        "\n",
        "  pedidos = input('Deseja pedir mais algum sorvete? (S/N): ')\n",
        "  pedidos = pedidos.upper()\n",
        "  if pedidos == 'S':\n",
        "    continue\n",
        "  else:\n",
        "    print('O valor total a ser pago é de R${:.2f}'.format(acumulador))\n",
        "    break\n",
        "\n",
        "\n",
        "  \n",
        "  "
      ]
    }
  ]
}