{
  "nbformat": 4,
  "nbformat_minor": 0,
  "metadata": {
    "colab": {
      "provenance": [],
      "authorship_tag": "ABX9TyMFR2knrlBuKFfRZYq5yDj/",
      "include_colab_link": true
    },
    "kernelspec": {
      "name": "python3",
      "display_name": "Python 3"
    },
    "language_info": {
      "name": "python"
    }
  },
  "cells": [
    {
      "cell_type": "markdown",
      "metadata": {
        "id": "view-in-github",
        "colab_type": "text"
      },
      "source": [
        "<a href=\"https://colab.research.google.com/github/marcelacdarocha/EstudosPY/blob/main/aula3petshop.ipynb\" target=\"_parent\"><img src=\"https://colab.research.google.com/assets/colab-badge.svg\" alt=\"Open In Colab\"/></a>"
      ]
    },
    {
      "cell_type": "code",
      "execution_count": 1,
      "metadata": {
        "id": "17TNjChOvna_",
        "colab": {
          "base_uri": "https://localhost:8080/"
        },
        "outputId": "30d843be-89a6-4f69-a122-eab79b1de011"
      },
      "outputs": [
        {
          "output_type": "stream",
          "name": "stdout",
          "text": [
            "Bem-vindo ao petshop cecelacao\n",
            "Escolha o serviç desejado:\n",
            " BA - Banho\n",
            " TO - Tosa\n",
            " BT - Banho e Tosa\n",
            " >>bt\n",
            "Serviço não identificado, tente novamente.\n",
            "Escolha o serviç desejado:\n",
            " BA - Banho\n",
            " TO - Tosa\n",
            " BT - Banho e Tosa\n",
            " >>BT\n",
            "Qual o peso do seu dog? 40\n",
            "Entre com o pelo do cachorro:\n",
            " C - Curto\n",
            " M - Médio\n",
            " L - Longo\n",
            " >>L\n",
            "O valor total foi de: R$187.50\n"
          ]
        }
      ],
      "source": [
        "#----------COMECO DA FUNCAO SERVICOCAO----------\n",
        "def servicocao():\n",
        "    while True:\n",
        "        servicoC = input('Escolha o serviç desejado:\\n BA - Banho\\n TO - Tosa\\n BT - Banho e Tosa\\n >>')\n",
        "        if servicoC == 'BA':\n",
        "            return 10.00\n",
        "        elif servicoC == 'TO':\n",
        "            return 20.00\n",
        "        elif servicoC == 'BT':\n",
        "            return 25.00\n",
        "        else:\n",
        "            print('Serviço não identificado, tente novamente.')\n",
        "            continue\n",
        "#----------FIM DA FUNCAO SERVICOCAO-------------\n",
        "#----------COMECO DA FUNCAO PESOCAO-------------\n",
        "def pesocao():\n",
        "    while True:\n",
        "        try:\n",
        "            pesoC = float(input('Qual o peso do seu dog? '))\n",
        "            if 0 <= pesoC <= 10:\n",
        "                return 1.5\n",
        "            elif (pesoC > 10) and (pesoC <= 20):\n",
        "                return 2.0\n",
        "            elif 20 < pesoC <= 30:\n",
        "                return 2.5\n",
        "            elif 30 < pesoC <= 40:\n",
        "                return 3.0\n",
        "            elif pesoC > 40:\n",
        "                return 4.0\n",
        "            else:\n",
        "                print('Não aceitamos este peso, tente novamente.')\n",
        "                continue\n",
        "        except ValueError:\n",
        "            print('O valor digitado não é aceito. Tente novamente')\n",
        "            continue\n",
        "#----------FIM DA FUNCAO PESOCAO----------------\n",
        "#----------COMECO DA FUNCAO PELOCAO-------------\n",
        "def pelocao():\n",
        "    while True:\n",
        "        peloC = input('Entre com o pelo do cachorro:\\n C - Curto\\n M - Médio\\n L - Longo\\n >>')\n",
        "        if peloC == 'C':\n",
        "            return 1.5\n",
        "        elif peloC == 'M':\n",
        "            return 2.0\n",
        "        elif peloC == 'L':\n",
        "            return 2.5\n",
        "        else:\n",
        "            print('Serviço não identificado, tente novamente.')\n",
        "            continue\n",
        "\n",
        "#----------FIM DA FUNCAO PELOCAO----------------\n",
        "\n",
        "#----------COMECO DA MAIN-----------------------\n",
        "print('Bem-vindo ao petshop cecelacao')\n",
        "servico = servicocao()\n",
        "peso = pesocao()\n",
        "pelo = pelocao()\n",
        "total = servico * peso * pelo\n",
        "print('O valor total foi de: R${:.2f}'.format(total))\n",
        "\n",
        "#----------FIM DA MAIN--------------------------"
      ]
    }
  ]
}