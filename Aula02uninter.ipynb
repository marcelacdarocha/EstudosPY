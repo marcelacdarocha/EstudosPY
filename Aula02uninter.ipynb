{
  "nbformat": 4,
  "nbformat_minor": 0,
  "metadata": {
    "colab": {
      "provenance": [],
      "authorship_tag": "ABX9TyOjsNESe7Pg+XF7wFWlaHN4",
      "include_colab_link": true
    },
    "kernelspec": {
      "name": "python3",
      "display_name": "Python 3"
    },
    "language_info": {
      "name": "python"
    }
  },
  "cells": [
    {
      "cell_type": "markdown",
      "metadata": {
        "id": "view-in-github",
        "colab_type": "text"
      },
      "source": [
        "<a href=\"https://colab.research.google.com/github/marcelacdarocha/EstudosPY/blob/main/Aula02uninter.ipynb\" target=\"_parent\"><img src=\"https://colab.research.google.com/assets/colab-badge.svg\" alt=\"Open In Colab\"/></a>"
      ]
    },
    {
      "cell_type": "code",
      "execution_count": null,
      "metadata": {
        "id": "wh11D26RbTtS"
      },
      "outputs": [],
      "source": [
        "acumulador = 0\n",
        "print('Seja Bem-Vindo ao salão de beleza Marcela Cristina da Rocha')\n",
        "\n",
        "print('*********Opções de Serviços**********')\n",
        "print('| Código |     Descrição      |  Valor |')\n",
        "print('|   pe   | Penteado Elaborado | 220,00 |')\n",
        "print('|   cc   |   Corte de cabelo  |  80,00 |')\n",
        "print('|   pi   |       Pintura      | 120,00 |')\n",
        "print('|   pr   |     Progressiva    | 450,00 |')\n",
        "print('|   es   |        Escova      | 100,00 |')\n",
        "while True:\n",
        "  codigo = input('Entre com o código desejado: ')\n",
        "  if codigo == 'cc':\n",
        "    acumulador = acumulador + 80\n",
        "  elif codigo == 'pe':\n",
        "    acumulador = acumulador + 220\n",
        "  elif codigo == 'pi':\n",
        "    acumulador + acumulador + 120\n",
        "  elif codigo == 'es':\n",
        "    acumulador = acumulador + 100\n",
        "  elif codigo == 'pr':\n",
        "    acumulador = acumulador + 450\n",
        "  else: \n",
        "    print('Código não encontrado')\n",
        "    continue\n",
        "  print('O valor ser pago está em: R${:.2f}'.format(acumulador))\n",
        "  resposta = input('Deseja continuar com outros serviços? (s/n) ')\n",
        "  if resposta == 's':\n",
        "    continue\n",
        "  else:\n",
        "    print('O valor final da conta é: R${:.2f}'.format(acumulador))\n",
        "    break  "
      ]
    }
  ]
}