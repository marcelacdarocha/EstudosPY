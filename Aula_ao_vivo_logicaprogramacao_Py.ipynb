{
  "nbformat": 4,
  "nbformat_minor": 0,
  "metadata": {
    "colab": {
      "provenance": [],
      "authorship_tag": "ABX9TyNXtnfzdNJIW9Sk/R6xVJSv",
      "include_colab_link": true
    },
    "kernelspec": {
      "name": "python3",
      "display_name": "Python 3"
    },
    "language_info": {
      "name": "python"
    }
  },
  "cells": [
    {
      "cell_type": "markdown",
      "metadata": {
        "id": "view-in-github",
        "colab_type": "text"
      },
      "source": [
        "<a href=\"https://colab.research.google.com/github/marcelacdarocha/EstudosPY/blob/main/Aula_ao_vivo_logicaprogramacao_Py.ipynb\" target=\"_parent\"><img src=\"https://colab.research.google.com/assets/colab-badge.svg\" alt=\"Open In Colab\"/></a>"
      ]
    },
    {
      "cell_type": "code",
      "execution_count": null,
      "metadata": {
        "id": "xma3t1sY6KZu"
      },
      "outputs": [],
      "source": [
        "print('Bem-vindo a loja da Marcela Cristina da Rocha') #coloque o seu nome na atividade prática\n",
        "valorProduto = float(input('Entre com o valor do produto:'))\n",
        "quantidadeProduto = int(input('Digite a quantidade desejada:'))\n",
        "subTotal = valorProduto * quantidadeProduto\n",
        "if subTotal < 0:\n",
        "  valorFinal = subTotal\n",
        "elif 0 <= subTotal < 11:\n",
        "  valorFinal = subTotal + subTotal * 30\n",
        "elif 11 <= subTotal < 101:\n",
        "  valorFinal = subTotal - subTotal * 60\n",
        "elif 101 <= subTotal < 1001:\n",
        "  valorFinal = subTotal + subTotal * 120 \n",
        "else:\n",
        "  valorFinal = subTotal + subTotal * 240\n",
        "\n",
        "print('O valor sem frete: R${:.2f}'.format(subTotal))\n",
        "print('O valor com frete: R${:.2f}' .format(valorFinal))"
      ]
    }
  ]
}