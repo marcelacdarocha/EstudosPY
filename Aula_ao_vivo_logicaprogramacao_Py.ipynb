{
  "nbformat": 4,
  "nbformat_minor": 0,
  "metadata": {
    "colab": {
      "provenance": [],
      "collapsed_sections": [],
      "authorship_tag": "ABX9TyN/z+CFguLcifqhD6SZ6TO3",
      "include_colab_link": true
    },
    "kernelspec": {
      "name": "python3",
      "display_name": "Python 3"
    },
    "language_info": {
      "name": "python"
    }
  },
  "cells": [
    {
      "cell_type": "markdown",
      "metadata": {
        "id": "view-in-github",
        "colab_type": "text"
      },
      "source": [
        "<a href=\"https://colab.research.google.com/github/marcelacdarocha/EstudosPY/blob/main/Aula_ao_vivo_logicaprogramacao_Py.ipynb\" target=\"_parent\"><img src=\"https://colab.research.google.com/assets/colab-badge.svg\" alt=\"Open In Colab\"/></a>"
      ]
    },
    {
      "cell_type": "code",
      "execution_count": null,
      "metadata": {
        "colab": {
          "base_uri": "https://localhost:8080/"
        },
        "id": "xma3t1sY6KZu",
        "outputId": "7c28aac2-a52b-4a5f-df2b-2b77f8c50a2a"
      },
      "outputs": [
        {
          "output_type": "stream",
          "name": "stdout",
          "text": [
            "Bem-vindo a loja da Marcela Cristina da Rocha\n",
            "Entre com o valor do produto:800\n",
            "Digite a quantidade desejada:8\n",
            "O valor sem desconto: R$6400.00\n",
            "O valor com desconto: R$5760.00\n"
          ]
        }
      ],
      "source": [
        "print('Bem-vindo a loja da Marcela Cristina da Rocha') #coloque o seu nome na atividade prática\n",
        "valorProduto = float(input('Entre com o valor do produto:'))\n",
        "quantidadeProduto = int(input('Digite a quantidade desejada:'))\n",
        "subTotal = valorProduto * quantidadeProduto\n",
        "if subTotal < 200:\n",
        "  valorFinal = subTotal\n",
        "elif 200 <= subTotal < 400:\n",
        "  valorFinal = subTotal - subTotal * 0.04\n",
        "elif 400 <= subTotal < 700:\n",
        "  valorFinal = subTotal - subTotal * 0.07\n",
        "else:\n",
        "  valorFinal = subTotal - subTotal * 0.10\n",
        "\n",
        "print('O valor sem desconto: R${:.2f}'.format(subTotal))\n",
        "print('O valor com desconto: R${:.2f}' .format(valorFinal))"
      ]
    }
  ]
}